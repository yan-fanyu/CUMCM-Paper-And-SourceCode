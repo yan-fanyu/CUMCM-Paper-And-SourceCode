{
 "cells": [
  {
   "cell_type": "code",
   "execution_count": 1,
   "source": [
    "import pandas as pd\r\n",
    "import matplotlib.pyplot as plt"
   ],
   "outputs": [],
   "metadata": {}
  },
  {
   "cell_type": "code",
   "execution_count": 87,
   "source": [
    "dingdan=pd.read_excel('1.xlsx',0)\r\n",
    "songhuo=pd.read_excel('1.xlsx',1)\r\n",
    "title=dingdan.columns"
   ],
   "outputs": [],
   "metadata": {}
  },
  {
   "cell_type": "code",
   "execution_count": 99,
   "source": [
    "for i in range(dingdan.shape[0]):\r\n",
    "    if dingdan.iloc[i]['材料分类']=='A':\r\n",
    "        for j in range(2,len(title)):\r\n",
    "            dingdan.loc[i,title[j]]=dingdan.loc[i][j]/0.6\r\n",
    "    if dingdan.iloc[i]['材料分类']=='B':\r\n",
    "        for j in range(2,len(title)):\r\n",
    "            dingdan.loc[i,title[j]]=dingdan.loc[i][j]/0.66\r\n",
    "    if dingdan.iloc[i]['材料分类']=='C':\r\n",
    "        for j in range(2,len(title)):\r\n",
    "            dingdan.loc[i,title[j]]=dingdan.loc[i][j]/0.72\r\n",
    "for i in range(songhuo.shape[0]):\r\n",
    "    if songhuo.iloc[i]['材料分类']=='A':\r\n",
    "        for j in range(2,len(title)):\r\n",
    "            songhuo.loc[i,title[j]]=songhuo.loc[i][j]/0.6\r\n",
    "    if songhuo.iloc[i]['材料分类']=='B':\r\n",
    "        for j in range(2,len(title)):\r\n",
    "            songhuo.loc[i,title[j]]=songhuo.loc[i][j]/0.66\r\n",
    "    if songhuo.iloc[i]['材料分类']=='C':\r\n",
    "        for j in range(2,len(title)):\r\n",
    "            songhuo.loc[i,title[j]]=songhuo.loc[i][j]/0.72"
   ],
   "outputs": [],
   "metadata": {}
  },
  {
   "cell_type": "code",
   "execution_count": 103,
   "source": [
    "songhuo.to_excel('songhuo_norm.xlsx')\r\n",
    "dingdan.to_excel('dingdan_norm.xlsx')"
   ],
   "outputs": [],
   "metadata": {}
  },
  {
   "cell_type": "code",
   "execution_count": 301,
   "source": [
    "dingdan24=dingdan[title[:2]]\r\n",
    "songhuo24=dingdan[title[:2]]\r\n",
    "blank=[0 for i in range(dingdan.shape[0])]\r\n",
    "for i in range(2,24+2):\r\n",
    "    dingdan24[title[i]+'_avg']=blank\r\n",
    "    dingdan24[title[i]+'_var']=blank\r\n",
    "    \r\n",
    "    songhuo24[title[i]+'_avg']=blank\r\n",
    "    songhuo24[title[i]+'_eft_avg']=blank\r\n",
    "    songhuo24[title[i]+'_eft_var']=blank\r\n",
    "\r\n",
    "dingdan24['total_var']=blank\r\n",
    "\r\n",
    "songhuo24['total_avg']=blank\r\n",
    "songhuo24['total_avg_var']=blank\r\n",
    "songhuo24['total_eft_avg']=blank\r\n",
    "songhuo24['total_eft_var']=blank\r\n",
    "songhuo24['max_sup']=blank\r\n",
    "songhuo24['cmp']=blank"
   ],
   "outputs": [
    {
     "output_type": "stream",
     "name": "stderr",
     "text": [
      "C:\\Users\\18249\\AppData\\Local\\Temp/ipykernel_60780/2914447085.py:5: SettingWithCopyWarning: \n",
      "A value is trying to be set on a copy of a slice from a DataFrame.\n",
      "Try using .loc[row_indexer,col_indexer] = value instead\n",
      "\n",
      "See the caveats in the documentation: https://pandas.pydata.org/pandas-docs/stable/user_guide/indexing.html#returning-a-view-versus-a-copy\n",
      "  dingdan24[title[i]+'_avg']=blank\n",
      "C:\\Users\\18249\\AppData\\Local\\Temp/ipykernel_60780/2914447085.py:6: SettingWithCopyWarning: \n",
      "A value is trying to be set on a copy of a slice from a DataFrame.\n",
      "Try using .loc[row_indexer,col_indexer] = value instead\n",
      "\n",
      "See the caveats in the documentation: https://pandas.pydata.org/pandas-docs/stable/user_guide/indexing.html#returning-a-view-versus-a-copy\n",
      "  dingdan24[title[i]+'_var']=blank\n",
      "C:\\Users\\18249\\AppData\\Local\\Temp/ipykernel_60780/2914447085.py:8: SettingWithCopyWarning: \n",
      "A value is trying to be set on a copy of a slice from a DataFrame.\n",
      "Try using .loc[row_indexer,col_indexer] = value instead\n",
      "\n",
      "See the caveats in the documentation: https://pandas.pydata.org/pandas-docs/stable/user_guide/indexing.html#returning-a-view-versus-a-copy\n",
      "  songhuo24[title[i]+'_avg']=blank\n",
      "C:\\Users\\18249\\AppData\\Local\\Temp/ipykernel_60780/2914447085.py:9: SettingWithCopyWarning: \n",
      "A value is trying to be set on a copy of a slice from a DataFrame.\n",
      "Try using .loc[row_indexer,col_indexer] = value instead\n",
      "\n",
      "See the caveats in the documentation: https://pandas.pydata.org/pandas-docs/stable/user_guide/indexing.html#returning-a-view-versus-a-copy\n",
      "  songhuo24[title[i]+'_eft_avg']=blank\n",
      "C:\\Users\\18249\\AppData\\Local\\Temp/ipykernel_60780/2914447085.py:10: SettingWithCopyWarning: \n",
      "A value is trying to be set on a copy of a slice from a DataFrame.\n",
      "Try using .loc[row_indexer,col_indexer] = value instead\n",
      "\n",
      "See the caveats in the documentation: https://pandas.pydata.org/pandas-docs/stable/user_guide/indexing.html#returning-a-view-versus-a-copy\n",
      "  songhuo24[title[i]+'_eft_var']=blank\n",
      "C:\\Users\\18249\\AppData\\Local\\Temp/ipykernel_60780/2914447085.py:12: SettingWithCopyWarning: \n",
      "A value is trying to be set on a copy of a slice from a DataFrame.\n",
      "Try using .loc[row_indexer,col_indexer] = value instead\n",
      "\n",
      "See the caveats in the documentation: https://pandas.pydata.org/pandas-docs/stable/user_guide/indexing.html#returning-a-view-versus-a-copy\n",
      "  dingdan24['total_var']=blank\n",
      "C:\\Users\\18249\\AppData\\Local\\Temp/ipykernel_60780/2914447085.py:14: SettingWithCopyWarning: \n",
      "A value is trying to be set on a copy of a slice from a DataFrame.\n",
      "Try using .loc[row_indexer,col_indexer] = value instead\n",
      "\n",
      "See the caveats in the documentation: https://pandas.pydata.org/pandas-docs/stable/user_guide/indexing.html#returning-a-view-versus-a-copy\n",
      "  songhuo24['total_avg']=blank\n",
      "C:\\Users\\18249\\AppData\\Local\\Temp/ipykernel_60780/2914447085.py:15: SettingWithCopyWarning: \n",
      "A value is trying to be set on a copy of a slice from a DataFrame.\n",
      "Try using .loc[row_indexer,col_indexer] = value instead\n",
      "\n",
      "See the caveats in the documentation: https://pandas.pydata.org/pandas-docs/stable/user_guide/indexing.html#returning-a-view-versus-a-copy\n",
      "  songhuo24['total_avg_var']=blank\n",
      "C:\\Users\\18249\\AppData\\Local\\Temp/ipykernel_60780/2914447085.py:16: SettingWithCopyWarning: \n",
      "A value is trying to be set on a copy of a slice from a DataFrame.\n",
      "Try using .loc[row_indexer,col_indexer] = value instead\n",
      "\n",
      "See the caveats in the documentation: https://pandas.pydata.org/pandas-docs/stable/user_guide/indexing.html#returning-a-view-versus-a-copy\n",
      "  songhuo24['total_eft_avg']=blank\n",
      "C:\\Users\\18249\\AppData\\Local\\Temp/ipykernel_60780/2914447085.py:17: SettingWithCopyWarning: \n",
      "A value is trying to be set on a copy of a slice from a DataFrame.\n",
      "Try using .loc[row_indexer,col_indexer] = value instead\n",
      "\n",
      "See the caveats in the documentation: https://pandas.pydata.org/pandas-docs/stable/user_guide/indexing.html#returning-a-view-versus-a-copy\n",
      "  songhuo24['total_eft_var']=blank\n",
      "C:\\Users\\18249\\AppData\\Local\\Temp/ipykernel_60780/2914447085.py:18: SettingWithCopyWarning: \n",
      "A value is trying to be set on a copy of a slice from a DataFrame.\n",
      "Try using .loc[row_indexer,col_indexer] = value instead\n",
      "\n",
      "See the caveats in the documentation: https://pandas.pydata.org/pandas-docs/stable/user_guide/indexing.html#returning-a-view-versus-a-copy\n",
      "  songhuo24['max_sup']=blank\n",
      "C:\\Users\\18249\\AppData\\Local\\Temp/ipykernel_60780/2914447085.py:19: SettingWithCopyWarning: \n",
      "A value is trying to be set on a copy of a slice from a DataFrame.\n",
      "Try using .loc[row_indexer,col_indexer] = value instead\n",
      "\n",
      "See the caveats in the documentation: https://pandas.pydata.org/pandas-docs/stable/user_guide/indexing.html#returning-a-view-versus-a-copy\n",
      "  songhuo24['cmp']=blank\n"
     ]
    }
   ],
   "metadata": {}
  },
  {
   "cell_type": "code",
   "execution_count": 302,
   "source": [
    "for idx in range(dingdan.shape[0]):\r\n",
    "    alllist=[]\r\n",
    "    for i in range(1,25):\r\n",
    "        ten=[]\r\n",
    "        for j in range(1,241,24):\r\n",
    "            ten.append(dingdan[title[j+i]].iloc[idx])\r\n",
    "        ten=pd.Series(ten)\r\n",
    "        alllist.append(ten.var())\r\n",
    "        dingdan24[title[i+1]+'_avg'].loc[idx]=ten.mean()\r\n",
    "        dingdan24[title[i+1]+'_var'].loc[idx]=ten.var()\r\n",
    "    dingdan24['total_var'].loc[idx]=pd.Series(alllist).mean()"
   ],
   "outputs": [
    {
     "output_type": "stream",
     "name": "stderr",
     "text": [
      "C:\\ProgramData\\Miniconda3\\lib\\site-packages\\pandas\\core\\indexing.py:1732: SettingWithCopyWarning: \n",
      "A value is trying to be set on a copy of a slice from a DataFrame\n",
      "\n",
      "See the caveats in the documentation: https://pandas.pydata.org/pandas-docs/stable/user_guide/indexing.html#returning-a-view-versus-a-copy\n",
      "  self._setitem_single_block(indexer, value, name)\n",
      "C:\\ProgramData\\Miniconda3\\lib\\site-packages\\pandas\\core\\indexing.py:1965: SettingWithCopyWarning: \n",
      "A value is trying to be set on a copy of a slice from a DataFrame\n",
      "\n",
      "See the caveats in the documentation: https://pandas.pydata.org/pandas-docs/stable/user_guide/indexing.html#returning-a-view-versus-a-copy\n",
      "  self.obj._check_is_chained_assignment_possible()\n"
     ]
    }
   ],
   "metadata": {}
  },
  {
   "cell_type": "code",
   "execution_count": 343,
   "source": [
    "for idx in range(dingdan.shape[0]):\r\n",
    "    alleft=[]\r\n",
    "    allsup=[]\r\n",
    "    for i in range(1,25):\r\n",
    "        ten=[]\r\n",
    "        avg=[]\r\n",
    "        for j in range(1,241,24):\r\n",
    "            if dingdan[title[j+i]].iloc[idx]==0:\r\n",
    "                continue\r\n",
    "            elif songhuo[title[j+i]].iloc[idx]==0:\r\n",
    "                ten.append(0)\r\n",
    "                avg.append(0)\r\n",
    "            else:\r\n",
    "                ten.append(songhuo[title[j+i]].iloc[idx]/dingdan[title[j+i]].iloc[idx])\r\n",
    "                \r\n",
    "                avg.append(songhuo[title[j+i]].iloc[idx])\r\n",
    "        if ten:\r\n",
    "            ten=pd.Series(ten)\r\n",
    "            avg=pd.Series(avg)\r\n",
    "            songhuo24[title[i+1]+'_avg'].loc[idx]=avg.mean()\r\n",
    "            songhuo24[title[i+1]+'_eft_avg'].loc[idx]=ten.mean()\r\n",
    "            songhuo24[title[i+1]+'_eft_var'].loc[idx]=ten.std()\r\n",
    "            alleft.append(ten.mean())\r\n",
    "            allsup.append(avg.mean())\r\n",
    "    songhuo24['total_avg'].loc[idx]=pd.Series(allsup).mean()\r\n",
    "    songhuo24['total_avg_var'].loc[idx]=pd.Series(allsup).std()\r\n",
    "    songhuo24['total_eft_avg'].loc[idx]=pd.Series(alleft).mean()\r\n",
    "    songhuo24['total_eft_var'].loc[idx]=pd.Series(alleft).std()\r\n",
    "    songhuo24['cmp'].loc[idx]=list((pd.Series(alleft)>=1)).count(True)/len(alleft)\r\n",
    "    songhuo24['max_sup'].loc[idx]=max(allsup)*songhuo24['cmp'].loc[idx]*sum(pd.Series(alleft)>pd.Series(alleft).mean())/len(allsup)\r\n",
    "    "
   ],
   "outputs": [
    {
     "output_type": "stream",
     "name": "stderr",
     "text": [
      "C:\\ProgramData\\Miniconda3\\lib\\site-packages\\pandas\\core\\indexing.py:1732: SettingWithCopyWarning: \n",
      "A value is trying to be set on a copy of a slice from a DataFrame\n",
      "\n",
      "See the caveats in the documentation: https://pandas.pydata.org/pandas-docs/stable/user_guide/indexing.html#returning-a-view-versus-a-copy\n",
      "  self._setitem_single_block(indexer, value, name)\n"
     ]
    }
   ],
   "metadata": {}
  },
  {
   "cell_type": "code",
   "execution_count": 320,
   "source": [
    "songhuo24.to_excel('songhuo24.xlsx')\r\n",
    "dingdan24.to_excel('dingdan24.xlsx')"
   ],
   "outputs": [],
   "metadata": {}
  },
  {
   "cell_type": "code",
   "execution_count": 305,
   "source": [
    "x=songhuo24['total_eft_avg']\r\n",
    "y=range(1,len(x)+1)\r\n",
    "plt.rcParams['font.sans-serif'] = ['SimHei']  # 用来正常显示中文标签\r\n",
    "plt.rcParams['axes.unicode_minus'] = False  # 用来正常显示负号\r\n",
    "plt.scatter(y,x)\r\n",
    "plt.xlabel('供货商代号')\r\n",
    "plt.ylabel('企业满意程度')\r\n",
    "plt.title('企业对402家供货商满意分布图')"
   ],
   "outputs": [
    {
     "output_type": "execute_result",
     "data": {
      "text/plain": [
       "Text(0.5, 1.0, '企业对402家供货商满意分布图')"
      ]
     },
     "metadata": {},
     "execution_count": 305
    },
    {
     "output_type": "display_data",
     "data": {
      "image/png": "[encoded data removed]",
      "text/plain": [
       "<Figure size 432x288 with 1 Axes>"
      ]
     },
     "metadata": {
      "needs_background": "light"
     }
    }
   ],
   "metadata": {}
  },
  {
   "cell_type": "code",
   "execution_count": 306,
   "source": [
    "x=songhuo24['total_avg']\r\n",
    "y=range(1,len(x)+1)\r\n",
    "plt.rcParams['font.sans-serif'] = ['SimHei']  # 用来正常显示中文标签\r\n",
    "plt.rcParams['axes.unicode_minus'] = False  # 用来正常显示负号\r\n",
    "plt.scatter(y,x)\r\n",
    "plt.xlabel('供货商代号')\r\n",
    "plt.ylabel('供货量')\r\n",
    "plt.title('402家供货商平均供货量分布图')"
   ],
   "outputs": [
    {
     "output_type": "execute_result",
     "data": {
      "text/plain": [
       "Text(0.5, 1.0, '402家供货商平均供货量分布图')"
      ]
     },
     "metadata": {},
     "execution_count": 306
    },
    {
     "output_type": "display_data",
     "data": {
      "image/png": "[encoded data removed]",
      "text/plain": [
       "<Figure size 432x288 with 1 Axes>"
      ]
     },
     "metadata": {
      "needs_background": "light"
     }
    }
   ],
   "metadata": {}
  },
  {
   "cell_type": "code",
   "execution_count": 307,
   "source": [
    "x=sorted(songhuo24['cmp'].value_counts().keys())\r\n",
    "y=[ songhuo24['cmp'].value_counts()[i] for i in x]\r\n",
    "plt.rcParams['font.sans-serif'] = ['SimHei']  # 用来正常显示中文标签\r\n",
    "plt.rcParams['axes.unicode_minus'] = False  # 用来正常显示负号\r\n",
    "plt.scatter(x,y)\r\n",
    "plt.xlabel('完成率')\r\n",
    "plt.ylabel('供货商数')\r\n",
    "plt.title('402家供货商订单完成率分布图')"
   ],
   "outputs": [
    {
     "output_type": "execute_result",
     "data": {
      "text/plain": [
       "Text(0.5, 1.0, '402家供货商订单完成率分布图')"
      ]
     },
     "metadata": {},
     "execution_count": 307
    },
    {
     "output_type": "display_data",
     "data": {
      "image/png": "[encoded data removed]",
      "text/plain": [
       "<Figure size 432x288 with 1 Axes>"
      ]
     },
     "metadata": {
      "needs_background": "light"
     }
    }
   ],
   "metadata": {}
  },
  {
   "cell_type": "code",
   "execution_count": 353,
   "source": [
    "x=songhuo24['max_sup']\r\n",
    "y=range(1,len(x)+1)\r\n",
    "plt.rcParams['font.sans-serif'] = ['SimHei']  # 用来正常显示中文标签\r\n",
    "plt.rcParams['axes.unicode_minus'] = False  # 用来正常显示负号\r\n",
    "plt.scatter(y,x)\r\n",
    "plt.xlabel('供货商ID')\r\n",
    "plt.ylabel('供货商最大产能')\r\n",
    "plt.title('402家供货商最大产能分布图')"
   ],
   "outputs": [
    {
     "output_type": "execute_result",
     "data": {
      "text/plain": [
       "Text(0.5, 1.0, '402家供货商最大产能分布图')"
      ]
     },
     "metadata": {},
     "execution_count": 353
    },
    {
     "output_type": "display_data",
     "data": {
      "image/png": "[encoded data removed]",
      "text/plain": [
       "<Figure size 432x288 with 1 Axes>"
      ]
     },
     "metadata": {
      "needs_background": "light"
     }
    }
   ],
   "metadata": {}
  },
  {
   "cell_type": "code",
   "execution_count": 348,
   "source": [
    "import seaborn as sns\r\n",
    "relative=songhuo24[['total_avg','total_eft_avg','total_eft_var','cmp','max_sup']]\r\n",
    "relative.columns=['平均供货量','平均满意程度','满意程度方差','订单完成率','最大产能']\r\n",
    "relative.corr()\r\n",
    "sns.heatmap(relative.corr())"
   ],
   "outputs": [
    {
     "output_type": "execute_result",
     "data": {
      "text/html": [
       "<div>\n",
       "<style scoped>\n",
       "    .dataframe tbody tr th:only-of-type {\n",
       "        vertical-align: middle;\n",
       "    }\n",
       "\n",
       "    .dataframe tbody tr th {\n",
       "        vertical-align: top;\n",
       "    }\n",
       "\n",
       "    .dataframe thead th {\n",
       "        text-align: right;\n",
       "    }\n",
       "</style>\n",
       "<table border=\"1\" class=\"dataframe\">\n",
       "  <thead>\n",
       "    <tr style=\"text-align: right;\">\n",
       "      <th></th>\n",
       "      <th>平均供货量</th>\n",
       "      <th>平均满意程度</th>\n",
       "      <th>满意程度方差</th>\n",
       "      <th>订单完成率</th>\n",
       "      <th>最大产能</th>\n",
       "    </tr>\n",
       "  </thead>\n",
       "  <tbody>\n",
       "    <tr>\n",
       "      <th>平均供货量</th>\n",
       "      <td>1.000000</td>\n",
       "      <td>0.238795</td>\n",
       "      <td>-0.419445</td>\n",
       "      <td>0.246037</td>\n",
       "      <td>0.728707</td>\n",
       "    </tr>\n",
       "    <tr>\n",
       "      <th>平均满意程度</th>\n",
       "      <td>0.238795</td>\n",
       "      <td>1.000000</td>\n",
       "      <td>-0.163275</td>\n",
       "      <td>0.955632</td>\n",
       "      <td>0.206274</td>\n",
       "    </tr>\n",
       "    <tr>\n",
       "      <th>满意程度方差</th>\n",
       "      <td>-0.419445</td>\n",
       "      <td>-0.163275</td>\n",
       "      <td>1.000000</td>\n",
       "      <td>-0.180866</td>\n",
       "      <td>-0.236365</td>\n",
       "    </tr>\n",
       "    <tr>\n",
       "      <th>订单完成率</th>\n",
       "      <td>0.246037</td>\n",
       "      <td>0.955632</td>\n",
       "      <td>-0.180866</td>\n",
       "      <td>1.000000</td>\n",
       "      <td>0.220256</td>\n",
       "    </tr>\n",
       "    <tr>\n",
       "      <th>最大产能</th>\n",
       "      <td>0.728707</td>\n",
       "      <td>0.206274</td>\n",
       "      <td>-0.236365</td>\n",
       "      <td>0.220256</td>\n",
       "      <td>1.000000</td>\n",
       "    </tr>\n",
       "  </tbody>\n",
       "</table>\n",
       "</div>"
      ],
      "text/plain": [
       "           平均供货量    平均满意程度    满意程度方差     订单完成率      最大产能\n",
       "平均供货量   1.000000  0.238795 -0.419445  0.246037  0.728707\n",
       "平均满意程度  0.238795  1.000000 -0.163275  0.955632  0.206274\n",
       "满意程度方差 -0.419445 -0.163275  1.000000 -0.180866 -0.236365\n",
       "订单完成率   0.246037  0.955632 -0.180866  1.000000  0.220256\n",
       "最大产能    0.728707  0.206274 -0.236365  0.220256  1.000000"
      ]
     },
     "metadata": {},
     "execution_count": 348
    }
   ],
   "metadata": {}
  },
  {
   "cell_type": "code",
   "execution_count": 349,
   "source": [],
   "outputs": [],
   "metadata": {}
  },
  {
   "cell_type": "code",
   "execution_count": 350,
   "source": [],
   "outputs": [
    {
     "output_type": "execute_result",
     "data": {
      "text/plain": [
       "<AxesSubplot:>"
      ]
     },
     "metadata": {},
     "execution_count": 350
    },
    {
     "output_type": "display_data",
     "data": {
      "image/png": "[encoded data removed]",
      "text/plain": [
       "<Figure size 432x288 with 2 Axes>"
      ]
     },
     "metadata": {
      "needs_background": "light"
     }
    }
   ],
   "metadata": {}
  },
  {
   "cell_type": "code",
   "execution_count": 344,
   "source": [
    "songhuo24[['供应商ID','total_avg','total_eft_avg','total_eft_var','cmp','max_sup']].to_excel('5个指标.xlsx')"
   ],
   "outputs": [],
   "metadata": {}
  },
  {
   "cell_type": "code",
   "execution_count": 345,
   "source": [
    "import pandas as pd\r\n",
    "import numpy as np\r\n",
    "data = pd.read_excel(\"5个指标.xlsx\", index_col = 1)\r\n",
    "del data['Unnamed: 0']\r\n",
    "\r\n"
   ],
   "outputs": [],
   "metadata": {}
  },
  {
   "cell_type": "code",
   "execution_count": 346,
   "source": [
    "A = data.values\r\n",
    "B = np.zeros((data.shape[0],5))\r\n",
    "for i in range(0, A.shape[1]):\r\n",
    "    B[:, i] = A[:, i]/np.linalg.norm(A[:, i])\r\n",
    "w = np.array([0.1 ,0.1,0.15,0.4,0.25])\r\n",
    "C = B * w.T \r\n",
    "Cstar = C.max(axis=0)\r\n",
    "#Cstar[1] = C[:, 1].min()\r\n",
    "Cstar[3] = C[:, 3].min()\r\n",
    "C0 = C.min(axis=0) \r\n",
    "Cstar[3] = C[:, 3].max()\r\n",
    "Sstar = np.zeros((1,402))\r\n",
    "S0 = np.zeros((1,402))\r\n",
    "for i in range(0, C.shape[0]):\r\n",
    "    Sstar[:, i] = np.linalg.norm(C[i, :]-Cstar) \r\n",
    "    S0[:, i] = np.linalg.norm(C[i, :]-C0)\r\n",
    "f = S0/(S0 + Sstar)\r\n",
    "data['得分']=f.T\r\n",
    "data.sort_values(by=['得分'],ascending=False,inplace=True)\r\n",
    "data.to_excel('排名2.xlsx')"
   ],
   "outputs": [],
   "metadata": {}
  },
  {
   "cell_type": "code",
   "execution_count": 284,
   "source": [
    "Cstar"
   ],
   "outputs": [
    {
     "output_type": "execute_result",
     "data": {
      "text/plain": [
       "array([0.12689961, 0.28837326, 0.00405534, 0.01079892, 0.00943162])"
      ]
     },
     "metadata": {},
     "execution_count": 284
    }
   ],
   "metadata": {}
  },
  {
   "cell_type": "code",
   "execution_count": 285,
   "source": [
    "B"
   ],
   "outputs": [
    {
     "output_type": "execute_result",
     "data": {
      "text/plain": [
       "array([[1.18730321e-04, 9.54595686e-05, 1.98038489e-02, 3.84864996e-02,\n",
       "        3.80062228e-03],\n",
       "       [7.76540336e-04, 7.22788937e-04, 6.24029820e-02, 5.28780761e-02,\n",
       "        4.18068451e-02],\n",
       "       [1.25153008e-02, 7.09631452e-03, 6.85508473e-02, 2.67910900e-02,\n",
       "        7.98130678e-02],\n",
       "       ...,\n",
       "       [2.04661234e-04, 2.54551228e-04, 2.12564689e-02, 5.21202777e-02,\n",
       "        3.96586672e-03],\n",
       "       [1.99921474e-04, 1.47659606e-04, 2.94010755e-02, 5.36335487e-02,\n",
       "        1.24384002e-02],\n",
       "       [9.62653310e-05, 1.56596771e-04, 7.24376079e-03, 2.72936947e-02,\n",
       "        4.14613339e-03]])"
      ]
     },
     "metadata": {},
     "execution_count": 285
    }
   ],
   "metadata": {}
  },
  {
   "cell_type": "code",
   "execution_count": 253,
   "source": [],
   "outputs": [],
   "metadata": {}
  },
  {
   "cell_type": "code",
   "execution_count": null,
   "source": [],
   "outputs": [],
   "metadata": {}
  }
 ],
 "metadata": {
  "orig_nbformat": 4,
  "language_info": {
   "name": "python",
   "version": "3.9.5",
   "mimetype": "text/x-python",
   "codemirror_mode": {
    "name": "ipython",
    "version": 3
   },
   "pygments_lexer": "ipython3",
   "nbconvert_exporter": "python",
   "file_extension": ".py"
  },
  "kernelspec": {
   "name": "python3",
   "display_name": "Python 3.9.5 64-bit ('base': conda)"
  },
  "interpreter": {
   "hash": "ecf5722fdaf1897a315d257d89d94520bfcaa453217d5becf09b39e73618b0de"
  }
 },
 "nbformat": 4,
 "nbformat_minor": 2
}